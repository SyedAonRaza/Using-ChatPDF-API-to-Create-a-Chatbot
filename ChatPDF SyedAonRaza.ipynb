{
  "cells": [
    {
      "cell_type": "markdown",
      "metadata": {
        "id": "wiM3b2BByjkS"
      },
      "source": [
        "# HPC LAB\n",
        "# Syed Aon Raza, 375700, CS 11A, 26/06/2024\n",
        "# Using ChatPDF to Answer Questions about the Llama 2 Research Paper"
      ]
    },
    {
      "cell_type": "code",
      "execution_count": 2,
      "metadata": {
        "colab": {
          "base_uri": "https://localhost:8080/"
        },
        "id": "-Sz-zoBBwwD3",
        "outputId": "b40c925a-9bf6-41c7-c195-d7c893302721"
      },
      "outputs": [
        {
          "name": "stdout",
          "output_type": "stream",
          "text": [
            "Source ID: src_StFCQrVi4V7QHxS9IXj99\n"
          ]
        }
      ],
      "source": [
        "import requests\n",
        "\n",
        "files = [\n",
        "    ('file', ('file', open('2307.09288v2.pdf', 'rb'), 'application/octet-stream'))\n",
        "]\n",
        "headers = {\n",
        "    'x-api-key': 'sec_uM64XdSarvdJDCooMtFJhYo7jskPAm0s'\n",
        "}\n",
        "\n",
        "response = requests.post(\n",
        "    'https://api.chatpdf.com/v1/sources/add-file', headers=headers, files=files)\n",
        "\n",
        "if response.status_code == 200:\n",
        "    print('Source ID:', response.json()['sourceId'])\n",
        "    src_id = response.json()['sourceId']\n",
        "else:\n",
        "    print('Status:', response.status_code)\n",
        "    print('Error:', response.text)"
      ]
    },
    {
      "cell_type": "code",
      "execution_count": 3,
      "metadata": {
        "colab": {
          "base_uri": "https://localhost:8080/"
        },
        "id": "vPTEpUHxzo0H",
        "outputId": "26508519-3f9f-4e7f-dd8f-2212803353ca"
      },
      "outputs": [
        {
          "name": "stdout",
          "output_type": "stream",
          "text": [
            "This chatbot answers questions about the Llama 2 research paper published in July 2023.\n",
            "Enter 'exit' to end the conversation.\n",
            "\n",
            "Result: I'm sorry, but I couldn't find a concise summary of the paper in the provided pages. However, based on the information available, the paper discusses exploring the AI ethics of ChatGPT through a diagnostic analysis. It also mentions collecting reward modeling data and comparing it against multiple open-source preference datasets. Additionally, the paper presents a large dataset of over 1 million binary comparisons based on humans applying specified guidelines.\n",
            "Thank you! Goodbye.\n"
          ]
        }
      ],
      "source": [
        "\n",
        "print('This chatbot answers questions about the Llama 2 research paper published in July 2023.')\n",
        "print(\"Enter 'exit' to end the conversation.\\n\")\n",
        "while True:\n",
        "  prompt=input(\"Q: \")\n",
        "  if prompt.lower() == 'exit':\n",
        "    print(\"Thank you! Goodbye.\")\n",
        "    break\n",
        "  else:\n",
        "    headers = {\n",
        "        'x-api-key': 'sec_uM64XdSarvdJDCooMtFJhYo7jskPAm0s',\n",
        "        \"Content-Type\": \"application/json\",\n",
        "    }\n",
        "\n",
        "    data = {\n",
        "        'sourceId': src_id,\n",
        "        'messages': [\n",
        "            {\n",
        "                'role': \"user\",\n",
        "                'content': prompt,\n",
        "            }\n",
        "        ]\n",
        "    }\n",
        "\n",
        "    response = requests.post(\n",
        "        'https://api.chatpdf.com/v1/chats/message', headers=headers, json=data)\n",
        "\n",
        "    if response.status_code == 200:\n",
        "        print('Result:', response.json()['content'])\n",
        "    else:\n",
        "        print('Status:', response.status_code)\n",
        "        print('Error:', response.text)"
      ]
    },
    {
      "cell_type": "code",
      "execution_count": null,
      "metadata": {},
      "outputs": [],
      "source": []
    }
  ],
  "metadata": {
    "accelerator": "GPU",
    "colab": {
      "gpuType": "T4",
      "provenance": []
    },
    "kernelspec": {
      "display_name": "Python 3",
      "name": "python3"
    },
    "language_info": {
      "codemirror_mode": {
        "name": "ipython",
        "version": 3
      },
      "file_extension": ".py",
      "mimetype": "text/x-python",
      "name": "python",
      "nbconvert_exporter": "python",
      "pygments_lexer": "ipython3",
      "version": "3.11.5"
    }
  },
  "nbformat": 4,
  "nbformat_minor": 0
}
