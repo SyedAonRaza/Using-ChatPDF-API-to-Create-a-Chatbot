{
  "cells": [
    {
      "cell_type": "markdown",
      "metadata": {
        "id": "wiM3b2BByjkS"
      },
      "source": [
        "# HPC LAB\n",
        "# Syed Aon Raza, 375700, CS 11A, 26/06/2024\n",
        "# Using ChatPDF to Answer Questions about the Llama 2 Research Paper"
      ]
    },
    {
      "cell_type": "code",
      "execution_count": 1,
      "metadata": {
        "colab": {
          "base_uri": "https://localhost:8080/"
        },
        "id": "-Sz-zoBBwwD3",
        "outputId": "b40c925a-9bf6-41c7-c195-d7c893302721"
      },
      "outputs": [
        {
          "name": "stdout",
          "output_type": "stream",
          "text": [
            "Source ID: src_QvKBO3JeICJJKm5vhBBtu\n"
          ]
        }
      ],
      "source": [
        "import requests\n",
        "\n",
        "files = [\n",
        "    ('file', ('file', open('/content/2307.09288v2.pdf', 'rb'), 'application/octet-stream'))\n",
        "]\n",
        "headers = {\n",
        "    'x-api-key': 'sec_uM64XdSarvdJDCooMtFJhYo7jskPAm0s'\n",
        "}\n",
        "\n",
        "response = requests.post(\n",
        "    'https://api.chatpdf.com/v1/sources/add-file', headers=headers, files=files)\n",
        "\n",
        "if response.status_code == 200:\n",
        "    print('Source ID:', response.json()['sourceId'])\n",
        "else:\n",
        "    print('Status:', response.status_code)\n",
        "    print('Error:', response.text)"
      ]
    },
    {
      "cell_type": "code",
      "execution_count": 7,
      "metadata": {
        "colab": {
          "base_uri": "https://localhost:8080/"
        },
        "id": "vPTEpUHxzo0H",
        "outputId": "26508519-3f9f-4e7f-dd8f-2212803353ca"
      },
      "outputs": [
        {
          "name": "stdout",
          "output_type": "stream",
          "text": [
            "This chatbot answers questions about the Llama 2 research paper published in July 2023.\n",
            "Enter 'exit' to end the conversation.\n",
            "\n",
            "Q: what is this paper about\n",
            "Result: This paper is about a collection of pretrained and fine-tuned large language models optimized for dialogue use cases. These models have been shown to outperform open-source chat models and can serve as a viable alternative to closed-source models.\n",
            "Q: what is llama 2\n",
            "Result: Llama 2 is a collection of pretrained and fine-tuned large language models ranging in scale from 7 billion to 70 billion parameters. These models, particularly Llama 2-Chat, are optimized for dialogue use cases and have demonstrated competitiveness with existing open-source chat models.\n",
            "Q: exit\n",
            "Thank you! Goodbye.\n"
          ]
        }
      ],
      "source": [
        "\n",
        "print('This chatbot answers questions about the Llama 2 research paper published in July 2023.')\n",
        "print(\"Enter 'exit' to end the conversation.\\n\")\n",
        "while True:\n",
        "  prompt=input(\"Q: \")\n",
        "  if prompt.lower() == 'exit':\n",
        "    print(\"Thank you! Goodbye.\")\n",
        "    break\n",
        "  else:\n",
        "    headers = {\n",
        "        'x-api-key': 'sec_uM64XdSarvdJDCooMtFJhYo7jskPAm0s',\n",
        "        \"Content-Type\": \"application/json\",\n",
        "    }\n",
        "\n",
        "    data = {\n",
        "        'sourceId': \"src_QvKBO3JeICJJKm5vhBBtu\",\n",
        "        'messages': [\n",
        "            {\n",
        "                'role': \"user\",\n",
        "                'content': prompt,\n",
        "            }\n",
        "        ]\n",
        "    }\n",
        "\n",
        "    response = requests.post(\n",
        "        'https://api.chatpdf.com/v1/chats/message', headers=headers, json=data)\n",
        "\n",
        "    if response.status_code == 200:\n",
        "        print('Result:', response.json()['content'])\n",
        "    else:\n",
        "        print('Status:', response.status_code)\n",
        "        print('Error:', response.text)"
      ]
    }
  ],
  "metadata": {
    "accelerator": "GPU",
    "colab": {
      "gpuType": "T4",
      "provenance": []
    },
    "kernelspec": {
      "display_name": "Python 3",
      "name": "python3"
    },
    "language_info": {
      "name": "python"
    }
  },
  "nbformat": 4,
  "nbformat_minor": 0
}
